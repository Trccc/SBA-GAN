{
 "cells": [
  {
   "cell_type": "code",
   "execution_count": 1,
   "metadata": {},
   "outputs": [],
   "source": [
    "import os\n",
    "import torch\n",
    "import torch.nn as nn\n",
    "from model import StyledGenerator, Discriminator, TextProcess, PixelNorm\n",
    "from dataset import MultiResolutionDataset\n",
    "from train import sample_data\n",
    "from torch.utils.data import DataLoader\n",
    "from torchvision import datasets, transforms, utils\n",
    "from pytorch_pretrained_bert import BertTokenizer\n",
    "from PIL import Image\n",
    "from torchvision.transforms import functional as trans_fn\n",
    "from torchvision import transforms\n",
    "from functools import partial\n",
    "import lmdb\n",
    "from io import BytesIO"
   ]
  },
  {
   "cell_type": "code",
   "execution_count": 2,
   "metadata": {},
   "outputs": [],
   "source": [
    "transform = transforms.Compose(\n",
    "    [\n",
    "        transforms.RandomHorizontalFlip(),\n",
    "        transforms.ToTensor(),\n",
    "        transforms.Normalize((0.5, 0.5, 0.5), (0.5, 0.5, 0.5), inplace=True),\n",
    "    ]\n",
    ")\n",
    "data_path = './data/birds_lmdb/'\n",
    "dataset = MultiResolutionDataset(data_path, transform, max_length=18)\n",
    "dataloader = sample_data(dataset, 16, 16)"
   ]
  },
  {
   "cell_type": "code",
   "execution_count": 3,
   "metadata": {},
   "outputs": [],
   "source": [
    "data_iter = iter(dataloader)\n",
    "image, caption = next(data_iter)"
   ]
  },
  {
   "cell_type": "code",
   "execution_count": 6,
   "metadata": {},
   "outputs": [],
   "source": [
    "text_process = nn.DataParallel(TextProcess(max_length=18, embedding_dim=128, condition_dim=128)).cuda()\n",
    "generator = nn.DataParallel(StyledGenerator(512)).cuda()\n",
    "discriminator = nn.DataParallel(\n",
    "    Discriminator(from_rgb_activate=True)\n",
    ").cuda()"
   ]
  },
  {
   "cell_type": "code",
   "execution_count": 7,
   "metadata": {},
   "outputs": [
    {
     "data": {
      "text/plain": [
       "<All keys matched successfully>"
      ]
     },
     "execution_count": 7,
     "metadata": {},
     "output_type": "execute_result"
    }
   ],
   "source": [
    "ckpt = torch.load('./output/birds_1115_sentnorm/checkpoint/train_step-2.model')\n",
    "        \n",
    "text_process.module.load_state_dict(ckpt['text_process'])\n",
    "generator.module.load_state_dict(ckpt['generator'])\n",
    "discriminator.module.load_state_dict(ckpt['discriminator'])"
   ]
  },
  {
   "cell_type": "code",
   "execution_count": 8,
   "metadata": {},
   "outputs": [],
   "source": [
    "image = image.cuda()\n",
    "caption = caption.cuda()\n",
    "c_code, sent_emb, words_embs, mu, log_var = text_process(caption)"
   ]
  },
  {
   "cell_type": "code",
   "execution_count": 9,
   "metadata": {},
   "outputs": [],
   "source": [
    "gen_in1, gen_in2 = torch.randn(2, 16, 512, device='cuda').chunk(\n",
    "    2, 0\n",
    ")\n",
    "gen_in1, gen_in2 = gen_in1.squeeze(0), gen_in2.squeeze(0)"
   ]
  },
  {
   "cell_type": "code",
   "execution_count": 10,
   "metadata": {},
   "outputs": [],
   "source": [
    "fake_image = generator(gen_in1, c_code, step=2, alpha=1)"
   ]
  },
  {
   "cell_type": "code",
   "execution_count": 11,
   "metadata": {},
   "outputs": [],
   "source": [
    "fake_predict, cond_fake_predict = discriminator(fake_image, sent_emb, step=2, alpha=1)"
   ]
  },
  {
   "cell_type": "code",
   "execution_count": 12,
   "metadata": {},
   "outputs": [
    {
     "name": "stdout",
     "output_type": "stream",
     "text": [
      "tensor([[ 0.0107],\n",
      "        [ 0.0078],\n",
      "        [ 0.0295],\n",
      "        [ 0.0340],\n",
      "        [ 0.0154],\n",
      "        [ 0.0197],\n",
      "        [ 0.0303],\n",
      "        [ 0.0285],\n",
      "        [ 0.0141],\n",
      "        [-0.0121],\n",
      "        [ 0.0001],\n",
      "        [ 0.0235],\n",
      "        [-0.0486],\n",
      "        [ 0.0229],\n",
      "        [-0.0068],\n",
      "        [ 0.0140]], device='cuda:0', grad_fn=<AddmmBackward>) tensor([[294.3565],\n",
      "        [295.3235],\n",
      "        [275.7867],\n",
      "        [262.7184],\n",
      "        [310.3739],\n",
      "        [287.1729],\n",
      "        [302.3688],\n",
      "        [279.0579],\n",
      "        [237.2812],\n",
      "        [263.8758],\n",
      "        [283.0998],\n",
      "        [287.5467],\n",
      "        [214.9000],\n",
      "        [286.3645],\n",
      "        [302.3677],\n",
      "        [302.2542]], device='cuda:0', grad_fn=<AddmmBackward>)\n"
     ]
    }
   ],
   "source": [
    "print(fake_predict, cond_fake_predict)"
   ]
  },
  {
   "cell_type": "code",
   "execution_count": 13,
   "metadata": {},
   "outputs": [],
   "source": [
    "real_predict, cond_real_predict = discriminator(image, sent_emb, step=2, alpha=1)"
   ]
  },
  {
   "cell_type": "code",
   "execution_count": 14,
   "metadata": {},
   "outputs": [
    {
     "name": "stdout",
     "output_type": "stream",
     "text": [
      "tensor([[ 0.0470],\n",
      "        [ 0.0384],\n",
      "        [-0.0314],\n",
      "        [ 0.1020],\n",
      "        [ 0.1676],\n",
      "        [ 0.0348],\n",
      "        [ 0.1095],\n",
      "        [ 0.0342],\n",
      "        [-0.0216],\n",
      "        [ 0.0590],\n",
      "        [ 0.0539],\n",
      "        [ 0.0271],\n",
      "        [ 0.0904],\n",
      "        [-0.0711],\n",
      "        [ 0.0158],\n",
      "        [ 0.0355]], device='cuda:0', grad_fn=<AddmmBackward>) tensor([[-123.4869],\n",
      "        [ 251.5795],\n",
      "        [-125.8931],\n",
      "        [-272.5009],\n",
      "        [  51.3055],\n",
      "        [ 208.0517],\n",
      "        [-506.0524],\n",
      "        [ 210.1932],\n",
      "        [-267.4745],\n",
      "        [ 195.9772],\n",
      "        [ 168.3169],\n",
      "        [ 169.7793],\n",
      "        [-118.1396],\n",
      "        [-403.6581],\n",
      "        [-365.6588],\n",
      "        [ 241.0832]], device='cuda:0', grad_fn=<AddmmBackward>)\n"
     ]
    }
   ],
   "source": [
    "print(real_predict, cond_real_predict)"
   ]
  },
  {
   "cell_type": "code",
   "execution_count": 20,
   "metadata": {},
   "outputs": [
    {
     "data": {
      "text/plain": [
       "torch.Size([16, 128, 4, 4])"
      ]
     },
     "execution_count": 20,
     "metadata": {},
     "output_type": "execute_result"
    }
   ],
   "source": [
    "sent_emb.view(16,-1,1,1).repeat(1, 1, 4, 4).shape"
   ]
  },
  {
   "cell_type": "code",
   "execution_count": null,
   "metadata": {},
   "outputs": [],
   "source": []
  },
  {
   "cell_type": "code",
   "execution_count": 34,
   "metadata": {},
   "outputs": [
    {
     "data": {
      "text/plain": [
       "torch.Size([16, 256])"
      ]
     },
     "execution_count": 34,
     "metadata": {},
     "output_type": "execute_result"
    }
   ],
   "source": [
    "sent_emb."
   ]
  },
  {
   "cell_type": "code",
   "execution_count": 32,
   "metadata": {},
   "outputs": [
    {
     "name": "stdout",
     "output_type": "stream",
     "text": [
      "Parameter containing:\n",
      "tensor([-0.3497], device='cuda:0', requires_grad=True)\n",
      "Parameter containing:\n",
      "tensor([[ 4.2548e+00, -4.2975e+00,  4.2328e+00, -8.6010e+00, -3.6583e+00,\n",
      "         -4.7534e+00,  6.1431e+00, -4.5836e+00,  4.9216e+00, -8.6113e+00,\n",
      "          3.7165e+00,  3.0080e+00,  8.2881e+00,  3.2673e+00, -4.0672e+00,\n",
      "         -3.9369e+00,  3.9243e+00, -4.5492e+00,  3.4317e+00,  3.3498e+00,\n",
      "         -2.9930e-01, -1.0317e+01,  5.7217e+00, -5.5745e+00, -8.3253e+00,\n",
      "          5.2831e+00,  6.6102e+00,  3.7642e+00,  6.8925e+00,  3.9787e+00,\n",
      "          6.8428e+00, -9.8916e+00,  5.7453e+00, -4.2589e+00, -5.4853e+00,\n",
      "          2.8553e+00,  7.1142e-01, -5.0571e+00,  7.0481e+00, -1.7355e+00,\n",
      "         -5.6823e+00, -9.2463e+00,  6.6507e+00,  6.0433e+00, -6.2733e+00,\n",
      "          6.3619e+00,  7.3124e+00, -8.3420e+00,  7.0957e+00, -1.1324e+01,\n",
      "          4.5173e+00, -6.4903e+00, -4.1134e+00,  5.7684e+00,  3.6925e+00,\n",
      "         -1.0550e+01, -1.0216e+01,  4.3370e+00,  7.2894e+00,  6.6203e+00,\n",
      "         -3.4190e+00, -2.0483e+00, -5.6356e+00,  6.3937e+00, -7.5910e+00,\n",
      "         -3.5340e+00,  6.0815e+00, -5.0603e+00, -1.0439e+01, -2.2259e+00,\n",
      "         -1.0101e+01,  5.9231e+00,  6.4837e+00, -3.3490e+00, -9.2329e+00,\n",
      "          7.2148e+00, -4.1051e+00,  6.3569e+00, -4.4445e+00, -5.3989e+00,\n",
      "         -3.0918e+00, -5.2147e+00,  3.8586e+00, -4.3296e-01, -4.5745e+00,\n",
      "         -4.0167e+00, -4.0945e+00,  6.4254e+00, -9.9276e+00, -8.5403e+00,\n",
      "          4.9188e+00,  3.9994e+00, -1.8420e+00,  6.8197e+00, -9.6033e+00,\n",
      "          6.1381e+00, -4.8263e+00,  6.7946e+00,  4.0905e+00,  4.0552e+00,\n",
      "          3.8414e+00, -8.5104e+00,  5.9393e+00,  4.2378e+00,  6.2239e+00,\n",
      "          5.9732e+00,  6.5244e+00, -3.6663e+00,  6.1493e+00, -3.7504e+00,\n",
      "          5.4864e+00, -2.8878e+00,  5.9761e+00, -7.4153e+00,  2.7815e+00,\n",
      "          7.2156e+00,  5.9611e+00,  5.3359e+00, -1.0013e+01,  5.7413e+00,\n",
      "         -4.6613e+00, -5.8868e+00,  6.0830e+00,  5.5945e+00,  1.4808e+00,\n",
      "         -4.2503e+00, -1.0637e+01, -4.6672e+00,  6.8989e+00,  4.8778e+00,\n",
      "          5.0034e+00, -8.8998e-01, -4.7554e+00,  4.3296e+00,  6.3080e+00,\n",
      "         -8.0850e+00, -5.8034e+00,  5.8019e+00, -1.0751e+01,  6.1621e+00,\n",
      "          3.8922e+00,  6.7687e+00, -4.7530e+00,  3.4863e+00,  6.9873e+00,\n",
      "          1.7195e-01,  7.2646e+00,  3.5990e+00,  6.0578e+00,  7.3636e+00,\n",
      "          6.1951e+00,  6.8325e+00,  3.2956e+00,  6.1277e+00, -3.8984e+00,\n",
      "         -5.5717e+00, -9.1058e+00,  3.0696e+00,  6.2447e+00,  6.2690e+00,\n",
      "          3.7917e+00, -8.4914e+00,  3.0352e+00, -3.4072e+00, -3.7471e+00,\n",
      "          3.9263e+00, -4.2811e+00, -4.5727e+00,  6.5333e+00,  7.9071e+00,\n",
      "         -5.6785e+00,  7.1704e+00, -3.2082e+00,  5.4887e+00,  4.5572e+00,\n",
      "          4.9190e+00, -5.7299e+00,  4.1850e+00,  6.9820e+00,  6.2351e+00,\n",
      "          3.7349e+00, -2.2354e+00,  4.4362e+00, -5.8422e+00,  2.5547e+00,\n",
      "          3.3214e+00,  5.8117e+00,  6.0998e+00, -4.5045e+00, -2.6692e+00,\n",
      "         -9.3632e-01, -5.8690e+00,  3.0041e+00,  7.8724e+00, -5.6526e+00,\n",
      "          1.8191e+00, -4.3427e+00, -4.8154e+00, -5.0970e+00,  6.2507e+00,\n",
      "         -1.0090e+01,  4.4524e+00,  4.0488e+00,  6.3808e+00, -3.4725e+00,\n",
      "          3.2557e+00,  7.6187e+00,  5.2112e+00,  4.0377e+00,  6.9494e+00,\n",
      "          4.0047e+00, -4.0861e+00,  4.4459e+00,  6.0274e+00, -5.6071e-01,\n",
      "          6.6934e+00, -6.1689e+00, -3.8818e+00, -5.6885e+00,  6.5393e+00,\n",
      "         -2.3779e+00,  4.5868e+00, -6.0482e+00, -1.1476e+01,  4.1017e+00,\n",
      "          2.0788e+00, -3.9333e+00, -4.8317e+00,  4.0504e+00, -4.1044e+00,\n",
      "         -3.7046e+00,  3.7826e+00, -3.2807e+00, -1.1739e+01,  7.2739e+00,\n",
      "         -9.8842e+00,  6.6156e+00, -9.8539e+00, -9.8338e+00, -3.4819e+00,\n",
      "          5.4584e+00,  3.1980e+00, -5.7446e+00,  2.4831e+00,  3.9088e+00,\n",
      "          5.2075e+00, -8.7656e+00, -5.7840e+00,  3.5843e+00,  6.6066e+00,\n",
      "         -5.0803e+00, -5.8250e+00,  3.6315e+00,  4.6195e+00,  6.7312e+00,\n",
      "         -1.0054e+01,  3.6100e+00, -5.0887e+00,  5.1768e+00,  4.8357e+00,\n",
      "          7.0347e+00, -4.0908e+00,  3.7606e+00,  6.8530e+00, -3.7173e+00,\n",
      "          4.3047e+00, -9.0225e+00, -6.0419e+00,  6.1064e+00,  4.2241e+00,\n",
      "         -5.6470e+00,  3.0090e+00,  6.1280e+00, -5.5225e+00,  7.6026e+00,\n",
      "         -2.6352e+00, -2.6549e+00, -3.0411e+00, -7.7995e-01, -4.4343e+00,\n",
      "         -8.8398e+00, -3.0163e+00, -8.6616e+00,  6.5187e+00, -6.3122e+00,\n",
      "         -8.7194e+00,  4.0710e+00, -3.5457e+00, -5.0420e+00, -4.4754e+00,\n",
      "         -5.1920e+00, -4.3224e+00,  6.4819e+00,  6.4118e+00, -3.7049e+00,\n",
      "         -4.2992e+00, -4.7718e+00,  3.4436e+00,  6.7875e+00,  3.5803e+00,\n",
      "         -8.5556e+00, -1.7448e+00, -1.0332e+01,  7.0214e+00,  6.5663e+00,\n",
      "          6.6296e+00, -9.8397e+00,  3.3993e+00,  3.7077e+00,  6.3166e+00,\n",
      "          4.1624e+00, -9.0403e+00, -6.2396e+00,  3.7047e+00,  3.1661e+00,\n",
      "         -5.3653e+00, -4.7866e+00,  3.5420e+00,  6.3372e+00, -5.1551e+00,\n",
      "         -9.6096e+00, -3.2791e+00,  7.3607e+00, -4.3179e+00, -3.5945e+00,\n",
      "          6.1508e+00,  6.3669e+00, -6.2285e+00,  4.9698e+00,  3.8931e+00,\n",
      "         -1.1538e+01,  7.2188e+00, -3.1297e+00,  6.2024e+00, -4.3274e+00,\n",
      "         -9.6843e+00, -5.1586e+00, -1.0564e+01,  3.4491e+00,  6.3139e+00,\n",
      "          4.3513e+00,  4.2279e+00,  3.5031e+00, -3.8338e+00,  6.7727e+00,\n",
      "          5.4280e+00,  4.0440e+00,  6.5127e+00, -5.9984e+00,  3.2889e+00,\n",
      "         -3.4098e+00,  7.2786e+00,  7.3474e+00,  6.3711e+00,  5.4722e+00,\n",
      "          1.7402e+00,  4.0592e+00, -2.5159e+00, -1.0026e+01, -3.1229e+00,\n",
      "         -8.7255e+00, -9.7580e+00,  6.8638e+00,  3.4080e+00, -3.5037e+00,\n",
      "          3.6391e+00,  3.5411e+00, -3.6166e+00,  6.0167e+00, -6.1247e+00,\n",
      "         -5.2087e+00, -3.1376e+00,  6.6427e+00,  6.2955e+00,  3.5592e+00,\n",
      "          5.3401e+00, -3.4393e+00,  6.7407e+00,  3.5206e+00,  3.7933e+00,\n",
      "         -3.5203e+00,  3.4940e+00, -8.1129e-01,  4.6187e+00,  3.9185e+00,\n",
      "          3.8905e+00,  6.4920e+00,  4.3472e+00,  3.4466e+00,  3.4052e+00,\n",
      "          7.7078e+00,  4.1015e+00,  4.3401e+00, -2.6768e+00,  6.1395e+00,\n",
      "         -5.1509e+00,  6.0518e+00,  4.4379e+00,  5.5440e+00,  4.1045e+00,\n",
      "          4.4977e+00, -1.0299e+01,  6.0279e+00,  4.0725e+00, -4.3724e+00,\n",
      "         -1.0131e+01,  3.9016e+00,  3.9777e+00,  6.8188e+00, -3.9460e+00,\n",
      "          3.0327e+00,  4.1982e+00,  6.7229e+00,  3.4571e+00, -5.0078e+00,\n",
      "         -6.4086e+00, -1.0761e+01,  6.8415e+00,  6.2217e+00,  6.8341e+00,\n",
      "         -4.0811e+00, -4.8229e+00, -1.4126e+01,  4.9655e+00, -1.3748e+00,\n",
      "         -6.3155e+00, -9.1210e+00, -8.6074e+00, -5.2906e+00, -3.8692e+00,\n",
      "         -3.9697e+00,  7.8495e+00, -3.3759e+00, -1.1619e+01,  4.5249e+00,\n",
      "         -3.4416e+00,  6.5794e+00,  3.6942e+00, -5.3869e+00,  7.0291e+00,\n",
      "          6.4686e+00,  3.9543e+00, -4.0541e+00, -5.2524e+00,  6.3265e+00,\n",
      "          5.0968e+00, -5.3244e+00,  7.8083e+00,  3.7215e+00,  6.4279e+00,\n",
      "          3.8051e+00,  4.6843e+00, -4.4329e+00,  6.6835e+00, -3.4722e+00,\n",
      "          7.0681e+00,  3.4696e+00,  7.2977e+00, -3.5650e+00,  6.3380e+00,\n",
      "          6.5593e+00,  3.3846e+00, -3.3654e+00, -9.1112e+00, -3.9118e+00,\n",
      "          7.0131e+00,  3.4365e+00,  3.2331e+00, -9.5433e+00, -2.2087e-01,\n",
      "         -1.0288e+01,  7.2699e+00, -1.1469e+01,  7.5876e+00,  3.8583e+00,\n",
      "          2.8469e+00, -6.3261e+00,  1.8456e+00,  7.4964e+00,  5.6645e+00,\n",
      "          5.3956e+00,  6.0483e+00, -1.0877e+01,  6.5116e+00, -8.9628e+00,\n",
      "         -4.1043e+00, -4.3387e+00, -4.4689e+00,  6.2014e+00,  4.3238e+00,\n",
      "         -7.6073e+00,  6.1229e+00,  8.0757e+00, -6.5816e+00, -5.7710e+00,\n",
      "         -4.3719e+00,  5.3351e+00, -4.9930e+00,  4.2456e+00, -5.9134e+00,\n",
      "         -5.6691e+00,  7.1473e+00, -3.6326e+00, -9.9080e+00, -6.4866e+00,\n",
      "          3.7457e+00, -3.4625e+00, -4.5853e+00, -5.0817e+00, -4.7431e+00,\n",
      "          4.0357e+00, -4.4086e+00, -1.7642e+00,  7.6231e-01, -6.2123e-01,\n",
      "          1.2355e+00,  1.8814e+00, -2.8335e-01,  5.8580e-02,  9.3407e-01,\n",
      "          7.7586e-01,  1.2470e+00,  6.9176e-01, -2.6337e-01,  4.1319e-02,\n",
      "         -3.2445e-01, -1.7957e+00, -8.2404e-02,  2.1013e-01, -1.4315e+00,\n",
      "          2.6514e-02, -3.9551e-01,  2.4263e+00,  1.5205e+00,  9.4666e-01,\n",
      "         -3.5564e-01, -5.3254e-01,  1.5764e+00,  2.1046e+00,  7.0084e-01,\n",
      "         -9.2069e-01,  2.0431e-01, -2.4230e+00,  2.2496e+00, -6.1964e-01,\n",
      "          4.3548e-01,  2.3225e-01, -3.4989e-01,  3.8584e-01,  7.5528e-02,\n",
      "         -3.2759e-01, -4.6776e-01,  5.3355e-01,  7.1090e-01,  7.4815e-01,\n",
      "         -4.3340e-01,  9.6250e-01, -1.2612e+00, -9.2007e-01,  1.8913e-01,\n",
      "         -1.5099e-01,  1.5664e-01, -9.5093e-01, -1.5176e-01,  1.5462e+00,\n",
      "          1.5145e+00, -9.2333e-01,  1.0987e-01,  7.2493e-01,  5.9349e-01,\n",
      "          4.3029e-01, -3.9995e-03, -1.9128e+00,  1.9338e+00, -2.0130e+00,\n",
      "         -9.0260e-01, -1.1785e+00, -1.1118e+00, -2.3263e+00, -1.4621e-01,\n",
      "          9.3011e-01,  1.9846e-01, -4.9835e-01, -5.9510e-02,  1.4565e+00,\n",
      "          4.1629e-01,  8.8751e-01, -1.1012e+00,  8.5829e-01, -2.8442e+00,\n",
      "          6.8302e-01,  7.4978e-01, -2.9979e+00, -3.0048e-01,  6.0595e-01,\n",
      "         -9.6004e-01, -3.3774e-01, -1.2772e+00,  5.4682e-01,  2.8050e-01,\n",
      "         -9.5733e-01, -1.5244e-01,  4.2167e-01,  1.3863e+00, -6.7000e-01,\n",
      "         -2.7350e-01, -4.8643e-01,  7.6127e-01,  1.4500e+00, -5.9828e-01,\n",
      "          1.6006e+00, -1.3247e+00,  5.4168e-01, -4.3496e-01, -2.3352e+00,\n",
      "         -7.1914e-01,  9.4415e-01, -1.9199e-01, -1.2086e+00, -7.1250e-01,\n",
      "         -1.1065e+00,  2.1865e-01, -4.5703e-01,  3.3188e-01,  7.4850e-01,\n",
      "          8.9267e-01, -1.2399e+00,  5.6683e-01, -8.2514e-01, -1.0405e+00,\n",
      "         -8.3138e-01,  1.8131e+00,  1.3745e+00,  2.1742e+00, -5.2853e-01,\n",
      "         -7.4247e-01,  2.0356e-02, -1.8057e+00, -3.3442e-01, -2.3434e-01,\n",
      "         -1.3788e+00,  1.0834e+00,  3.3531e-01,  8.2326e-01, -1.8875e-01,\n",
      "         -1.3397e+00, -1.7247e+00,  5.8016e-01,  2.2318e-01,  4.4349e-01,\n",
      "          1.0245e-01,  4.3664e-01,  1.4087e+00,  1.1245e-01, -9.1936e-01,\n",
      "          2.7758e-01,  5.0959e-02, -3.8479e-01, -1.6779e+00, -6.5817e-01,\n",
      "          3.8697e-01, -1.1096e+00, -4.8227e-02, -1.7341e+00,  2.5656e-01,\n",
      "          1.3054e+00,  8.8639e-02, -8.1599e-01, -4.2675e-01,  2.2177e+00,\n",
      "         -2.5587e-01, -2.3433e+00, -6.3327e-01, -1.1088e+00, -7.5767e-01,\n",
      "          4.2219e-01,  1.4486e-02, -1.8519e+00, -2.0903e+00,  1.5921e-01,\n",
      "         -3.9504e-01, -1.0542e+00,  1.0841e+00, -5.0473e-01, -2.8651e+00,\n",
      "         -4.0793e-01, -1.0399e+00, -5.7828e-02,  8.1801e-01,  2.5817e+00,\n",
      "          4.5183e-01,  1.7256e+00, -8.0800e-01, -4.5643e-01, -8.3734e-01,\n",
      "         -1.1675e-01, -2.0223e+00,  2.7028e-01, -1.9148e-01, -1.4242e-01,\n",
      "          8.0131e-01,  3.5048e+00,  1.2145e+00,  1.1171e+00, -1.8557e+00,\n",
      "         -5.1413e-01,  3.3373e-01,  1.2026e+00,  3.9941e-02, -1.2618e-01,\n",
      "          7.0910e-01, -2.8622e+00,  6.0773e-01,  3.3534e-01,  1.5845e+00,\n",
      "          9.9785e-01, -8.1071e-01,  1.1002e-01,  1.2633e+00, -6.9400e-01,\n",
      "         -5.6604e-01, -7.7645e-01,  1.1888e-01, -1.9162e+00,  3.1381e-01,\n",
      "         -1.6338e-01, -5.6834e-01,  7.8149e-02, -6.7634e-01,  7.3809e-02,\n",
      "         -9.3754e-01,  1.1520e+00, -3.8075e-01,  1.6649e+00,  5.8262e-02,\n",
      "         -1.0962e+00,  2.6133e-01,  1.3771e-03, -1.0514e+00, -1.2646e-01,\n",
      "         -8.9070e-01,  1.4021e+00, -7.7008e-01, -4.1636e-01,  1.2069e+00,\n",
      "         -1.5146e+00,  8.5655e-01, -2.5229e-01, -6.0681e-01,  8.1080e-01,\n",
      "         -2.0717e+00,  7.3288e-01,  2.4123e+00, -4.1833e-01, -3.5858e-01,\n",
      "         -1.4886e-01, -1.9766e+00, -3.2452e-01, -5.8976e-01,  3.4999e-01,\n",
      "          9.2347e-01, -1.2115e+00, -7.2952e-01, -1.0467e+00, -1.1723e+00,\n",
      "          1.0965e+00,  1.8863e-01, -4.4426e-01]], device='cuda:0',\n",
      "       requires_grad=True)\n"
     ]
    }
   ],
   "source": [
    "for param in discriminator.module.cond_linear.parameters():\n",
    "    print(param)"
   ]
  },
  {
   "cell_type": "code",
   "execution_count": 54,
   "metadata": {},
   "outputs": [],
   "source": [
    "with env.begin(write=False) as txn:\n",
    "    img_key = f'4-{str(0).zfill(5)}'.encode('utf-8')\n",
    "    txt_key = f'txt-1-{str(0).zfill(5)}'.encode('utf-8')\n",
    "    txt_bytes = txn.get(txt_key)\n",
    "    txt = txt_bytes.decode('utf-8')\n",
    "    img_bytes = txn.get(img_key)\n",
    "    buffer = BytesIO(img_bytes)\n",
    "    img = Image.open(buffer)"
   ]
  },
  {
   "cell_type": "code",
   "execution_count": 2,
   "metadata": {},
   "outputs": [],
   "source": [
    "tokenizer = BertTokenizer.from_pretrained('bert-base-uncased')"
   ]
  },
  {
   "cell_type": "code",
   "execution_count": 187,
   "metadata": {},
   "outputs": [],
   "source": [
    "text_process = TextProcess()"
   ]
  },
  {
   "cell_type": "code",
   "execution_count": 14,
   "metadata": {},
   "outputs": [],
   "source": [
    "# data loader test\n",
    "transform = transforms.Compose(\n",
    "        [\n",
    "            transforms.RandomHorizontalFlip(),\n",
    "            transforms.ToTensor(),\n",
    "            transforms.Normalize((0.5, 0.5, 0.5), (0.5, 0.5, 0.5), inplace=True),\n",
    "        ]\n",
    "    )\n",
    "dataset = MultiResolutionDataset('./birds/', transform)\n",
    "loader = sample_data(dataset, 16, 8)\n",
    "data_iter = iter(loader)"
   ]
  },
  {
   "cell_type": "code",
   "execution_count": 55,
   "metadata": {},
   "outputs": [],
   "source": [
    "def sample_data(dataset, batch_size, image_size=4):\n",
    "    dataset.resolution = image_size\n",
    "    loader = DataLoader(dataset, shuffle=True, batch_size=batch_size, num_workers=4)\n",
    "\n",
    "    return loader"
   ]
  },
  {
   "cell_type": "code",
   "execution_count": null,
   "metadata": {},
   "outputs": [],
   "source": []
  }
 ],
 "metadata": {
  "kernelspec": {
   "display_name": "Python 3",
   "language": "python",
   "name": "python3"
  },
  "language_info": {
   "codemirror_mode": {
    "name": "ipython",
    "version": 3
   },
   "file_extension": ".py",
   "mimetype": "text/x-python",
   "name": "python",
   "nbconvert_exporter": "python",
   "pygments_lexer": "ipython3",
   "version": "3.7.4"
  }
 },
 "nbformat": 4,
 "nbformat_minor": 4
}
