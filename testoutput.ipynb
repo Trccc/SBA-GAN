{
 "cells": [
  {
   "cell_type": "code",
   "execution_count": 6,
   "metadata": {},
   "outputs": [],
   "source": [
    "import argparse\n",
    "import os\n",
    "import random\n",
    "import math\n",
    "\n",
    "from tqdm import tqdm\n",
    "import numpy as np\n",
    "from PIL import Image\n",
    "\n",
    "import torch\n",
    "from torch import nn, optim\n",
    "from torch.nn import functional as F\n",
    "from torch.autograd import Variable, grad\n",
    "from torch.utils.data import DataLoader\n",
    "from torchvision import datasets, transforms, utils\n",
    "\n",
    "from dataset import MultiResolutionDataset\n",
    "# from datasets import TextDataset, prepare_data\n",
    "from model import StyledGenerator, Discriminator, TextProcess\n",
    "\n"
   ]
  },
  {
   "cell_type": "code",
   "execution_count": 2,
   "metadata": {},
   "outputs": [],
   "source": [
    "transform = transforms.Compose(\n",
    "        [\n",
    "            transforms.RandomHorizontalFlip(),\n",
    "            transforms.ToTensor(),\n",
    "            transforms.Normalize((0.5, 0.5, 0.5), (0.5, 0.5, 0.5), inplace=True),\n",
    "        ]\n",
    "    )\n"
   ]
  },
  {
   "cell_type": "code",
   "execution_count": 3,
   "metadata": {},
   "outputs": [],
   "source": [
    "dataset = MultiResolutionDataset('./data/birds_lmdb', transform, max_length=18)"
   ]
  },
  {
   "cell_type": "code",
   "execution_count": 7,
   "metadata": {},
   "outputs": [],
   "source": [
    "def sample_data(dataset, batch_size, image_size=8):\n",
    "    dataset.resolution = image_size\n",
    "    loader = DataLoader(dataset, shuffle=True, batch_size=batch_size, num_workers=4)\n",
    "    return loader"
   ]
  },
  {
   "cell_type": "code",
   "execution_count": 20,
   "metadata": {},
   "outputs": [],
   "source": [
    "step = int(math.log2(4)) - 2\n",
    "resolution = 4 * 2 ** step\n",
    "loader = sample_data(\n",
    "    dataset, 32, 32\n",
    ")\n",
    "data_loader = iter(loader)"
   ]
  },
  {
   "cell_type": "code",
   "execution_count": 21,
   "metadata": {},
   "outputs": [],
   "source": [
    "l = []\n",
    "for i,j  in data_loader:\n",
    "    x = j\n",
    "    break"
   ]
  },
  {
   "cell_type": "code",
   "execution_count": 22,
   "metadata": {},
   "outputs": [],
   "source": [
    "x = next(data_loader)"
   ]
  },
  {
   "cell_type": "code",
   "execution_count": null,
   "metadata": {},
   "outputs": [],
   "source": []
  },
  {
   "cell_type": "code",
   "execution_count": 24,
   "metadata": {},
   "outputs": [
    {
     "data": {
      "text/plain": [
       "tensor([[  101,  1037,  4743,  2007,  1037,  2304,  2132,  1010,  3897, 23525,\n",
       "          1010,  1998,  2304,  2519,  1012,   102,     0,     0],\n",
       "        [  101,  2023,  2210,  4743,  2038,  1037,  2829,  2303,  1998,  1037,\n",
       "          2317,  7579,  1012,   102,     0,     0,     0,     0],\n",
       "        [  101,  4743,  2007,  2304,  3239,  1010, 19437,  3897, 23525,  1010,\n",
       "          2829,  2519,  1998,  3897,  4410,  1998,  2422,  3897],\n",
       "        [  101,  2023,  2312,  4743,  2038, 19504,  2304, 12261,  2035,  2058,\n",
       "          1010,  1037,  2460,  4197,  2304,  3021,  1010,  1998],\n",
       "        [  101,  1996,  4743,  2038,  1037,  2417,  6910,  2132,  1998,  4410,\n",
       "          1010,  2021,  3484,  1997,  2049, 19813,  2015,  1998],\n",
       "        [  101,  1037,  4743,  2007,  1037,  4317, 13012,  5654,  8787,  2099,\n",
       "          3021,  1010,  2317,  3239,  4892,  1010,  1998,  2829],\n",
       "        [  101,  2235,  4743,  2007,  1037,  3565,  2235,  3021,  1998,  1037,\n",
       "          6638,  7388,  1998,  7579,  1012,   102,     0,     0],\n",
       "        [  101,  2235,  4743,  2007,  1037,  2235,  2132,  1998, 23525,  1010,\n",
       "          6087,  2024,  1037,  5472,  2829,  1998,  3897,   102],\n",
       "        [  101,  2023,  4743,  2003,  2630,  1010,  3756,  1010,  2665,  1010,\n",
       "          1998,  2417,  1998,  2038,  1037,  2146,  1010,  2391],\n",
       "        [  101,  2023,  4743,  2038,  4777,  2008,  2024,  4462,  1998,  2038,\n",
       "          1037,  4857,  3021,   102,     0,     0,     0,     0],\n",
       "        [  101,  2023,  4743,  2038,  4777,  2008,  2024,  2304,  1998,  2038,\n",
       "          1037,  2417,  1998,  2317,  7579,   102,     0,     0],\n",
       "        [  101,  2023,  2003,  1037,  3897,  4743,  2007,  3756,  2104, 11115,\n",
       "          1010, 26849,  2012,  2049,  2104, 14162, 19813,  1998],\n",
       "        [  101,  1996,  4743,  2038,  1037,  2235,  3239,  4892,  2008,  2003,\n",
       "          2304,   102,     0,     0,     0,     0,     0,     0],\n",
       "        [  101,  1996,  2132,  1998, 23634,  2024,  5744,  1998,  4462,  1010,\n",
       "          3021,  2003,  4197,  1998,  1996,  2067,  1998,  4777],\n",
       "        [  101,  2023,  4743,  2038,  1037,  4408,  2417,  2132,  1998,  1037,\n",
       "          2146, 23525,  1012,  2009,  2038,  1037,  2304,  2067],\n",
       "        [  101,  2023,  2235,  4743,  2003,  3262,  2665,  2007,  2070,  3897,\n",
       "         12261,  1012,   102,     0,     0,     0,     0,     0],\n",
       "        [  101,  4743,  2038,  3756,  2303, 12261,  1010,  2317,  7388, 15550,\n",
       "          1010,  1998,  4197, 23525,   102,     0,     0,     0],\n",
       "        [  101,  2023,  4743,  2038,  1037, 19942,  2125,  5725,  1998,  1037,\n",
       "          4197, 23525,  1012,   102,     0,     0,     0,     0],\n",
       "        [  101,  2023,  2003,  1037,  4462,  4743,  2007,  1037,  2829,  3358,\n",
       "          1010,  1037,  2829,  3759,  1998,  1037,  2665,  2132],\n",
       "        [  101,  2023,  2003,  1037,  2317,  4743,  2007,  2829,  4777,  1998,\n",
       "          1037,  2312,  4589, 23525,  1012,   102,     0,     0],\n",
       "        [  101,  2023,  4743,  2038,  1037, 15629,  2304, 23525,  1998,  1037,\n",
       "          2304,  7579,  2007,  2317,  4777,  1010, 19379,  2361],\n",
       "        [  101,  2023,  3756,  1998,  2304,  4743,  2038,  2235,  4197,  3021,\n",
       "          1012,   102,     0,     0,     0,     0,     0,     0],\n",
       "        [  101,  2023,  2003,  1037,  4462,  4743,  2007,  1037,  2304,  3358,\n",
       "          1998,  1037,  2317, 23525,  1012,   102,     0,     0],\n",
       "        [  101,  1996,  4743,  2003,  2317,  2007,  4462,  5725, 12261,  1998,\n",
       "          4589,  2519,  2007,  2019,  4589, 23525,  1012,   102],\n",
       "        [  101,  1037,  7053,  2665,  4743,  2007,  1037,  2460, 16371, 14075,\n",
       "         23525,  1998,  2019,  4589,  4410,  1012,   102,     0],\n",
       "        [  101,  1037,  5396,  7451,  4743,  2038,  1037,  2146,  4589,  3021,\n",
       "          1998,  2317,  4777,   102,     0,     0,     0,     0],\n",
       "        [  101,  1037,  4408,  3191, 21836,  2075,  4743,  2007,  2304,  4777,\n",
       "          1998,  5725,  1010,  1998,  1037,  2312,  1010,  2460],\n",
       "        [  101,  2023,  4743,  2003,  2235,  1998,  2038,  1037,  2146,  3300,\n",
       "          1998,  3456,  1010,  4102,  2000,  1996,  2717,  1997],\n",
       "        [  101,  2023,  4743,  2003,  4462,  1998,  2304,  1999,  3609,  2007,\n",
       "          1037,  4629,  2304, 23525,  1010,  1998,  4462,  3239],\n",
       "        [  101,  3756, 23525,  2098,  2235,  4743,  2007,  2829, 12261,  1998,\n",
       "          4589,  3456,  1012,   102,     0,     0,     0,     0],\n",
       "        [  101,  2023,  4743,  2038,  4777,  2008,  2024,  2304,  1998,  2038,\n",
       "          1037,  2317,  7579,   102,     0,     0,     0,     0],\n",
       "        [  101, 20442,  3756,  7388, 14059,  2000, 23753,  1011,  3897,  2006,\n",
       "          2303,  1010,  2007, 14023,  5396, 23525,  1998,  2317]])"
      ]
     },
     "execution_count": 24,
     "metadata": {},
     "output_type": "execute_result"
    }
   ],
   "source": [
    "x[1]"
   ]
  },
  {
   "cell_type": "code",
   "execution_count": 31,
   "metadata": {},
   "outputs": [],
   "source": [
    "from io import BytesIO\n",
    "\n",
    "import lmdb\n",
    "import random\n",
    "from PIL import Image\n",
    "from torch.utils.data import Dataset\n",
    "import torch\n",
    "from pytorch_pretrained_bert import BertTokenizer"
   ]
  },
  {
   "cell_type": "code",
   "execution_count": 27,
   "metadata": {},
   "outputs": [],
   "source": [
    "env = lmdb.open(\n",
    "            './data/birds_lmdb',\n",
    "            max_readers=32,\n",
    "            readonly=True,\n",
    "            lock=False,\n",
    "            readahead=False,\n",
    "            meminit=False,\n",
    "        )"
   ]
  },
  {
   "cell_type": "code",
   "execution_count": 29,
   "metadata": {},
   "outputs": [],
   "source": [
    "with env.begin(write=False) as txn:\n",
    "    length = int(txn.get('length'.encode('utf-8')).decode('utf-8'))"
   ]
  },
  {
   "cell_type": "code",
   "execution_count": 30,
   "metadata": {},
   "outputs": [
    {
     "data": {
      "text/plain": [
       "11788"
      ]
     },
     "execution_count": 30,
     "metadata": {},
     "output_type": "execute_result"
    }
   ],
   "source": [
    "length"
   ]
  },
  {
   "cell_type": "code",
   "execution_count": 45,
   "metadata": {},
   "outputs": [],
   "source": [
    "with env.begin(write=False) as txn:\n",
    "    txt = []\n",
    "    for index in range(length):\n",
    "        for i in range(5):\n",
    "            txt_key = f'txt-{i}-{str(index).zfill(5)}'.encode('utf-8')\n",
    "            txt.append(txn.get(txt_key))\n"
   ]
  },
  {
   "cell_type": "code",
   "execution_count": 59,
   "metadata": {},
   "outputs": [],
   "source": [
    "stat = []\n",
    "for i in txt:\n",
    "    stat.append(len(i.split()))"
   ]
  },
  {
   "cell_type": "code",
   "execution_count": 60,
   "metadata": {},
   "outputs": [
    {
     "data": {
      "text/plain": [
       "15.898727519511368"
      ]
     },
     "execution_count": 60,
     "metadata": {},
     "output_type": "execute_result"
    }
   ],
   "source": [
    "np.mean(stat)"
   ]
  },
  {
   "cell_type": "code",
   "execution_count": 61,
   "metadata": {},
   "outputs": [
    {
     "data": {
      "text/plain": [
       "(array([1.6000e+02, 1.9619e+04, 3.1293e+04, 5.7910e+03, 1.5050e+03,\n",
       "        4.3000e+02, 1.0200e+02, 2.4000e+01, 1.0000e+01, 6.0000e+00]),\n",
       " array([ 1. ,  7.4, 13.8, 20.2, 26.6, 33. , 39.4, 45.8, 52.2, 58.6, 65. ]),\n",
       " <a list of 10 Patch objects>)"
      ]
     },
     "execution_count": 61,
     "metadata": {},
     "output_type": "execute_result"
    },
    {
     "data": {
      "image/png": "[encoded data removed]",
      "text/plain": [
       "<Figure size 432x288 with 1 Axes>"
      ]
     },
     "metadata": {
      "needs_background": "light"
     },
     "output_type": "display_data"
    }
   ],
   "source": [
    "import matplotlib.pyplot as plt\n",
    "plt.hist(stat)"
   ]
  },
  {
   "cell_type": "code",
   "execution_count": 62,
   "metadata": {},
   "outputs": [
    {
     "data": {
      "text/plain": [
       "array([15., 18., 25.])"
      ]
     },
     "execution_count": 62,
     "metadata": {},
     "output_type": "execute_result"
    }
   ],
   "source": [
    "np.quantile(stat, [0.5,0.75,0.95])"
   ]
  },
  {
   "cell_type": "code",
   "execution_count": null,
   "metadata": {},
   "outputs": [],
   "source": [
    "txt"
   ]
  },
  {
   "cell_type": "code",
   "execution_count": 4,
   "metadata": {},
   "outputs": [],
   "source": [
    "def KL_loss(mu, logvar):\n",
    "    KLD_element = mu.pow(2).add_(logvar.exp()).mul_(-1).add_(1).add_(logvar)\n",
    "    KLD = torch.mean(KLD_element).mul_(-0.5)\n",
    "    return KLD    "
   ]
  },
  {
   "cell_type": "code",
   "execution_count": 8,
   "metadata": {},
   "outputs": [
    {
     "data": {
      "text/plain": [
       "tensor(-8.3891)"
      ]
     },
     "execution_count": 8,
     "metadata": {},
     "output_type": "execute_result"
    }
   ],
   "source": [
    "mu = torch.tensor(1.0)\n",
    "logvar = torch.tensor(2.0) \n",
    "mu.pow(2).add_(logvar.exp()).mul_(-1)"
   ]
  },
  {
   "cell_type": "code",
   "execution_count": null,
   "metadata": {},
   "outputs": [],
   "source": []
  }
 ],
 "metadata": {
  "kernelspec": {
   "display_name": "Python 3",
   "language": "python",
   "name": "python3"
  },
  "language_info": {
   "codemirror_mode": {
    "name": "ipython",
    "version": 3
   },
   "file_extension": ".py",
   "mimetype": "text/x-python",
   "name": "python",
   "nbconvert_exporter": "python",
   "pygments_lexer": "ipython3",
   "version": "3.7.4"
  }
 },
 "nbformat": 4,
 "nbformat_minor": 4
}
